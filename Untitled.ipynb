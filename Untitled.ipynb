{
 "cells": [
  {
   "cell_type": "code",
   "execution_count": 9,
   "id": "c6a5bc62",
   "metadata": {},
   "outputs": [],
   "source": [
    "class Employee:\n",
    "    #constructor\n",
    "    def __init__(self,name,salary,procject):\n",
    "        self.name = name\n",
    "        self.salary = salary\n",
    "        self.project = procject"
   ]
  },
  {
   "cell_type": "code",
   "execution_count": 12,
   "id": "50aa4ec7",
   "metadata": {},
   "outputs": [
    {
     "name": "stdout",
     "output_type": "stream",
     "text": [
      "Jessa\n",
      "8000\n",
      "NLP\n",
      "Per\n",
      "7000\n",
      "GLP\n"
     ]
    }
   ],
   "source": [
    "# creating object of a class\n",
    "\n",
    "emp = Employee('Jessa', 8000, 'NLP')\n",
    "emp1 = Employee('Per',7000,'GLP')\n",
    "\n",
    "\n",
    "\n",
    "\n",
    "#calling public method of the class\n",
    "print(emp.name)\n",
    "print(emp.salary)\n",
    "print(emp.project)\n",
    "print(emp1.name)\n",
    "print(emp1.salary)\n",
    "print(emp1.project)"
   ]
  },
  {
   "cell_type": "code",
   "execution_count": 5,
   "id": "59d018ff",
   "metadata": {},
   "outputs": [],
   "source": [
    "#public instance methods\n",
    "def show(self):\n",
    "    #private members are accessible from a class\n",
    "    print(\"Name:\", self.name, \"Salary:\", selft.__salary)\n",
    "    \n",
    "    emp = Employee(\"Jessa\",10000)"
   ]
  },
  {
   "cell_type": "code",
   "execution_count": null,
   "id": "27500520",
   "metadata": {},
   "outputs": [],
   "source": [
    "#base class\n",
    "\n",
    "class Company:\n",
    "    Def __init__(self):\n",
    "        #protected memeber\n",
    "        self._project = 'NLP'"
   ]
  },
  {
   "cell_type": "code",
   "execution_count": null,
   "id": "6f96bf23",
   "metadata": {},
   "outputs": [],
   "source": [
    "#child class\n",
    "\n",
    "class Employee(company):\n",
    "    def __init__(self,name):\n",
    "        slef.name = name\n",
    "        company.__init__(self)\n",
    "        \n",
    "        def show(self):\n",
    "            print(\"Employee name :\", self.name)\n",
    "            #Accessing proteced memeber in child class\n",
    "            print(\"Working on project :\", self.:project)\n",
    "            \n",
    "c = Employee(\"Jessa\")\n",
    ".cshow()"
   ]
  },
  {
   "cell_type": "code",
   "execution_count": null,
   "id": "29e59787",
   "metadata": {},
   "outputs": [],
   "source": []
  }
 ],
 "metadata": {
  "kernelspec": {
   "display_name": "Python 3 (ipykernel)",
   "language": "python",
   "name": "python3"
  },
  "language_info": {
   "codemirror_mode": {
    "name": "ipython",
    "version": 3
   },
   "file_extension": ".py",
   "mimetype": "text/x-python",
   "name": "python",
   "nbconvert_exporter": "python",
   "pygments_lexer": "ipython3",
   "version": "3.8.13"
  }
 },
 "nbformat": 4,
 "nbformat_minor": 5
}
